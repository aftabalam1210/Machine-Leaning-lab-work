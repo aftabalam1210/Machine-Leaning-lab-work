{
 "cells": [
  {
   "cell_type": "code",
   "execution_count": 9,
   "id": "ed12bc5e",
   "metadata": {},
   "outputs": [],
   "source": [
    "# Import necessary libraries\n",
    "import pandas as pd\n",
    "import numpy as np"
   ]
  },
  {
   "cell_type": "markdown",
   "id": "0d2f2c75",
   "metadata": {},
   "source": [
    " # i) Read the dataset file in Python IDE"
   ]
  },
  {
   "cell_type": "code",
   "execution_count": 2,
   "id": "869b94da",
   "metadata": {},
   "outputs": [],
   "source": [
    "file_path = \"adult.csv\"\n",
    "dataset = pd.read_csv(file_path)"
   ]
  },
  {
   "cell_type": "markdown",
   "id": "f029ac79",
   "metadata": {},
   "source": [
    "# ii) Display the dataset"
   ]
  },
  {
   "cell_type": "code",
   "execution_count": 3,
   "id": "6575bc58",
   "metadata": {},
   "outputs": [
    {
     "name": "stdout",
     "output_type": "stream",
     "text": [
      "Dataset:\n",
      "       age     workclass  fnlwgt     education  educational-num  \\\n",
      "0       25       Private  226802          11th                7   \n",
      "1       38       Private   89814       HS-grad                9   \n",
      "2       28     Local-gov  336951    Assoc-acdm               12   \n",
      "3       44       Private  160323  Some-college               10   \n",
      "4       18             ?  103497  Some-college               10   \n",
      "...    ...           ...     ...           ...              ...   \n",
      "48837   27       Private  257302    Assoc-acdm               12   \n",
      "48838   40       Private  154374       HS-grad                9   \n",
      "48839   58       Private  151910       HS-grad                9   \n",
      "48840   22       Private  201490       HS-grad                9   \n",
      "48841   52  Self-emp-inc  287927       HS-grad                9   \n",
      "\n",
      "           marital-status         occupation relationship   race  gender  \\\n",
      "0           Never-married  Machine-op-inspct    Own-child  Black    Male   \n",
      "1      Married-civ-spouse    Farming-fishing      Husband  White    Male   \n",
      "2      Married-civ-spouse    Protective-serv      Husband  White    Male   \n",
      "3      Married-civ-spouse  Machine-op-inspct      Husband  Black    Male   \n",
      "4           Never-married                  ?    Own-child  White  Female   \n",
      "...                   ...                ...          ...    ...     ...   \n",
      "48837  Married-civ-spouse       Tech-support         Wife  White  Female   \n",
      "48838  Married-civ-spouse  Machine-op-inspct      Husband  White    Male   \n",
      "48839             Widowed       Adm-clerical    Unmarried  White  Female   \n",
      "48840       Never-married       Adm-clerical    Own-child  White    Male   \n",
      "48841  Married-civ-spouse    Exec-managerial         Wife  White  Female   \n",
      "\n",
      "       capital-gain  capital-loss  hours-per-week native-country income  \n",
      "0                 0             0              40  United-States  <=50K  \n",
      "1                 0             0              50  United-States  <=50K  \n",
      "2                 0             0              40  United-States   >50K  \n",
      "3              7688             0              40  United-States   >50K  \n",
      "4                 0             0              30  United-States  <=50K  \n",
      "...             ...           ...             ...            ...    ...  \n",
      "48837             0             0              38  United-States  <=50K  \n",
      "48838             0             0              40  United-States   >50K  \n",
      "48839             0             0              40  United-States  <=50K  \n",
      "48840             0             0              20  United-States  <=50K  \n",
      "48841         15024             0              40  United-States   >50K  \n",
      "\n",
      "[48842 rows x 15 columns]\n"
     ]
    }
   ],
   "source": [
    "print(\"Dataset:\")\n",
    "print(dataset)"
   ]
  },
  {
   "cell_type": "markdown",
   "id": "2668483e",
   "metadata": {},
   "source": [
    "# iii) Display the shape of the dataset"
   ]
  },
  {
   "cell_type": "code",
   "execution_count": 4,
   "id": "c329c02b",
   "metadata": {},
   "outputs": [
    {
     "name": "stdout",
     "output_type": "stream",
     "text": [
      "\n",
      "Shape of the dataset:\n",
      "(48842, 15)\n"
     ]
    }
   ],
   "source": [
    "print(\"\\nShape of the dataset:\")\n",
    "print(dataset.shape)"
   ]
  },
  {
   "cell_type": "markdown",
   "id": "535aea62",
   "metadata": {},
   "source": [
    "# iv) Display the datatypes of the attributes of the dataset"
   ]
  },
  {
   "cell_type": "code",
   "execution_count": 6,
   "id": "8358c9da",
   "metadata": {},
   "outputs": [
    {
     "name": "stdout",
     "output_type": "stream",
     "text": [
      "\n",
      "Datatypes of the attributes:\n",
      "age                 int64\n",
      "workclass          object\n",
      "fnlwgt              int64\n",
      "education          object\n",
      "educational-num     int64\n",
      "marital-status     object\n",
      "occupation         object\n",
      "relationship       object\n",
      "race               object\n",
      "gender             object\n",
      "capital-gain        int64\n",
      "capital-loss        int64\n",
      "hours-per-week      int64\n",
      "native-country     object\n",
      "income             object\n",
      "dtype: object\n"
     ]
    }
   ],
   "source": [
    "print(\"\\nDatatypes of the attributes:\")\n",
    "print(dataset.dtypes)"
   ]
  },
  {
   "cell_type": "markdown",
   "id": "2f029e2c",
   "metadata": {},
   "source": [
    "# v) Find out the mean, median, and mode of all the numeric columns"
   ]
  },
  {
   "cell_type": "code",
   "execution_count": 10,
   "id": "d42304ef",
   "metadata": {},
   "outputs": [],
   "source": [
    "numeric_columns = dataset.select_dtypes(include=[np.number]).columns"
   ]
  },
  {
   "cell_type": "code",
   "execution_count": 11,
   "id": "10ba9eaf",
   "metadata": {},
   "outputs": [
    {
     "name": "stdout",
     "output_type": "stream",
     "text": [
      "\n",
      "Mean of numeric columns:\n",
      "age                    38.643585\n",
      "fnlwgt             189664.134597\n",
      "educational-num        10.078089\n",
      "capital-gain         1079.067626\n",
      "capital-loss           87.502314\n",
      "hours-per-week         40.422382\n",
      "dtype: float64\n"
     ]
    }
   ],
   "source": [
    "print(\"\\nMean of numeric columns:\")\n",
    "print(dataset[numeric_columns].mean())"
   ]
  },
  {
   "cell_type": "code",
   "execution_count": 12,
   "id": "adfb91c5",
   "metadata": {},
   "outputs": [
    {
     "name": "stdout",
     "output_type": "stream",
     "text": [
      "\n",
      "Median of numeric columns:\n",
      "age                    37.0\n",
      "fnlwgt             178144.5\n",
      "educational-num        10.0\n",
      "capital-gain            0.0\n",
      "capital-loss            0.0\n",
      "hours-per-week         40.0\n",
      "dtype: float64\n"
     ]
    }
   ],
   "source": [
    "print(\"\\nMedian of numeric columns:\")\n",
    "print(dataset[numeric_columns].median())"
   ]
  },
  {
   "cell_type": "code",
   "execution_count": null,
   "id": "024be0f0",
   "metadata": {},
   "outputs": [],
   "source": []
  }
 ],
 "metadata": {
  "kernelspec": {
   "display_name": "Python 3 (ipykernel)",
   "language": "python",
   "name": "python3"
  },
  "language_info": {
   "codemirror_mode": {
    "name": "ipython",
    "version": 3
   },
   "file_extension": ".py",
   "mimetype": "text/x-python",
   "name": "python",
   "nbconvert_exporter": "python",
   "pygments_lexer": "ipython3",
   "version": "3.11.5"
  }
 },
 "nbformat": 4,
 "nbformat_minor": 5
}
